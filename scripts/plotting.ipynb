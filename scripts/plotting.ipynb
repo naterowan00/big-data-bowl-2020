{
 "cells": [
  {
   "cell_type": "code",
   "execution_count": 44,
   "metadata": {},
   "outputs": [],
   "source": [
    "import pandas as pd\n",
    "import numpy as np\n",
    "import seaborn as sns\n",
    "import matplotlib.pyplot as plt\n",
    "import matplotlib.animation as animation\n",
    "%matplotlib inline"
   ]
  },
  {
   "cell_type": "code",
   "execution_count": 2,
   "metadata": {},
   "outputs": [],
   "source": [
    "df_games = pd.read_csv('games.csv')\n",
    "df_plays = pd.read_csv('plays.csv')\n",
    "df_players = pd.read_csv('players.csv')\n",
    "df_plays = df_plays.merge(df_games)\n",
    "df_players.loc[len(df_players.index)] = [0, np.nan, np.nan, np.nan, np.nan, 'football', 'Football']"
   ]
  },
  {
   "cell_type": "code",
   "execution_count": 119,
   "metadata": {},
   "outputs": [
    {
     "name": "stdout",
     "output_type": "stream",
     "text": [
      "week 1 done!\n",
      "week 2 done!\n",
      "week 3 done!\n",
      "week 4 done!\n",
      "week 5 done!\n",
      "week 6 done!\n",
      "week 7 done!\n",
      "week 8 done!\n",
      "week 9 done!\n",
      "week 10 done!\n",
      "week 11 done!\n",
      "week 12 done!\n",
      "week 13 done!\n",
      "week 14 done!\n",
      "week 15 done!\n",
      "week 16 done!\n",
      "week 17 done!\n"
     ]
    }
   ],
   "source": [
    "week = {}\n",
    "for i in range(1, 18):\n",
    "    week[i] = pd.read_csv('week' + str(i) + '.csv')\n",
    "    week[i]['nflId'] = week[i]['nflId'].fillna(0.)\n",
    "    week[i]['position'] = week[i]['position'].fillna('football')\n",
    "    week[i] = week[i].merge(df_players, on=['nflId', 'displayName', 'position'])\n",
    "    print(f'week {i} done!')"
   ]
  },
  {
   "cell_type": "code",
   "execution_count": 213,
   "metadata": {},
   "outputs": [],
   "source": [
    "team_colors_primary = {\"TB\": \"#D50A0A\", \"DET\": \"#0076b6\", \"TEN\": \"#0C2340\", \"BAL\": \"#241773\",\n",
    "                       \"GB\": \"#FFB612\", \"MIA\": \"#FC4C02\", \"DAL\": \"#041E42\", \"BUF\": \"#00338D\",\n",
    "                       \"CLE\": \"#311D00\", \"HOU\": \"#03202f\", \"WAS\": \"#FFB612\", \"LAC\": \"#0080C6\",\n",
    "                       \"CHI\": \"#c83803\", \"KC\": \"#E31837\", \"NYJ\": \"#125740\", \"PHI\": \"#004C54\",\n",
    "                       \"NYG\": \"#0B2265\", \"IND\": \"#002C5F\", \"ATL\": \"#000000\", \"MIN\": \"#4F2683\",\n",
    "                       \"CAR\": \"#0085CA\", \"CIN\": \"#fb4f14\", \"LA\": \"#866D4B\", \"ARI\": \"#000000\",\n",
    "                       \"NE\": \"#B0B7BC\", \"SF\": \"#B3995D\", \"OAK\": \"#A5ACAF\", \"JAX\": \"#006778\",\n",
    "                       \"PIT\": \"#FFB612\", \"NO\": \"#D3BC8D\", \"DEN\": \"#FB4F14\", \"SEA\": \"#69BE28\",\n",
    "                       }"
   ]
  },
  {
   "cell_type": "code",
   "execution_count": 234,
   "metadata": {},
   "outputs": [],
   "source": [
    "# function that's called frame by frame when animating \n",
    "def get_play_by_frame(i, ax, play, metadata): \n",
    "    ax.cla()\n",
    "    one_frame = play.loc[play['frameId']==i]\n",
    "    \n",
    "    fig1 = sns.scatterplot(x='x', y='y', data=one_frame, \n",
    "                           hue='team', palette=metadata['colors'], \n",
    "                           size='team', sizes=metadata['sizes'], ax=ax)\n",
    "    \n",
    "    fig1.axvline(metadata['los'], c='blue', ls=':')\n",
    "    fig1.axvline(10, c='k', ls='-')\n",
    "    fig1.axvline(110, c='k', ls='-')\n",
    "    \n",
    "    if metadata['drive_right']:\n",
    "        fig1.axvline(metadata['los'] + metadata['dist'], c='y', ls=':')\n",
    "    else:\n",
    "        fig1.axvline(metadata['los'] - metadata['dist'], c='y', ls=':')\n",
    "    \n",
    "    for player_id in one_frame['nflId'].unique():\n",
    "        if player_id > 0:\n",
    "            player_x = float(one_frame.loc[one_frame['nflId']==player_id]['x'])\n",
    "            player_y = float(one_frame.loc[one_frame['nflId']==player_id]['y'])\n",
    "            player_num = str(int(one_frame.loc[one_frame['nflId']==player_id]['jerseyNumber']))\n",
    "            ax.text(player_x, player_y, player_num, \n",
    "                    horizontalalignment='center', verticalalignment='center', fontdict={'size': 3, \n",
    "                                                                                        'color': 'white',\n",
    "                                                                                        'weight': 'bold'})\n",
    "    fig1.legend([]).set_visible(False)\n",
    "    sns.despine(left=True)\n",
    "    ax.set_title("2018 Week " + str(metadata['week_num']) + ", " + metadata['away'] + " @ " + metadata['home'] + ".\nQtr " + str(metadata['quarter']) + ", " + "(" + str(metadata['game_time']) + "). " + metadata['pos_team'] + " ball, " + str(metadata['down']) + " & " + str(metadata['dist']) + ".", fontdict={'fontsize':16})\n",  
    "    fig1.set_ylabel('')\n",
    "    fig1.set_yticks([])\n",
    "    fig1.set_xlabel('Yardline')\n",
    "    fig1.set_xticks([10, 20, 30, 40, 50, 60, 70, 80, 90, 100, 110])\n",
    "    fig1.set_xticklabels([0, 10, 20, 30, 40, 50, 40, 30, 20, 10, 0])\n",
    "    fig1.set_xlim(0, 120)\n",
    "    fig1.set_ylim(0, 54)"
   ]
  },
  {
   "cell_type": "code",
   "execution_count": 231,
   "metadata": {},
   "outputs": [],
   "source": [
    "def plot_play(game_id, play_id):\n",
    "    home = df_games.loc[df_games['gameId']==game_id]['homeTeamAbbr'].unique()[0]\n",
    "    away = df_games.loc[df_games['gameId']==game_id]['visitorTeamAbbr'].unique()[0]\n",
    "    \n",
    "    play = df_plays.loc[(df_plays['gameId']==game_id) & (df_plays['playId']==play_id)]\n",
    "    week_num = int(play['week'].unique())\n",
    "    play = week[week_num].merge(play.loc[:, ['gameId', 'playId']])\n",
    "    \n",
    "    metadata = {}\n",
    "    metadata['play_id'] = int(play['playId'].unique())\n",
    "    metadata['game_id'] = int(play['gameId'].unique())\n",
    "    metadata['home'] = df_games.loc[df_games['gameId']==game_id]['homeTeamAbbr'].unique()[0]\n",
    "    metadata['away'] = df_games.loc[df_games['gameId']==game_id]['visitorTeamAbbr'].unique()[0]\n",
    "    metadata['colors'] = {'home': team_colors_primary[metadata['home']], 'away': team_colors_primary[metadata['away']], 'football': '#955500'}\n",
    "    metadata['sizes'] = {'home': 50, 'away': 50, 'football': 10}\n",
    "    metadata['dist'] = int(df_plays.loc[(df_plays['gameId']==game_id) & (df_plays['playId']==play_id)]['yardsToGo'].unique())\n",
    "    metadata['los'] = play.loc[(play['frameId']==1) & (play['team']=='football'), 'x'].round(0).astype(int).values[0]\n",
    "    qb_x = play.loc[(play['frameId']==1) & (play['position']=='QB'), 'x'].round(0).astype(int).values[0]\n",
    "    metadata['drive_right'] = qb_x < metadata['los']\n",
    "    metadata['week_num'] = df_plays.loc[(df_plays['gameId']==game_id)&(df_plays['playId']==play_id)]['week'].unique()[0]\n",
    "    metadata['quarter'] = df_plays.loc[(df_plays['gameId']==game_id)&(df_plays['playId']==play_id)]['quarter'].unique()[0]\n",
    "    metadata['game_time'] = ':'.join(df_plays.loc[(df_plays['gameId']==game_id)&(df_plays['playId']==play_id)]['gameClock'].unique()[0].split(':')[:-1])\n",
    "    metadata['pos_team'] = df_plays.loc[(df_plays['gameId']==game_id)&(df_plays['playId']==play_id)]['possessionTeam'].unique()[0]\n",
    "    down = df_plays.loc[(df_plays['gameId']==game_id)&(df_plays['playId']==play_id)]['down'].unique()[0]\n",
    "    if down == 1:\n",
    "        metadata['down'] = str(down) + 'st'\n",
    "    elif down == 2:\n",
    "        metadata['down'] = str(down) + 'nd'\n",
    "    elif down == 3:\n",
    "        metadata['down'] = str(down) + 'rd'\n",
    "    elif down == 4:\n",
    "        metadata['down'] = str(down) + 'th'\n",
    "    else:\n",
    "        raise ValueError\n",
    "    \n",
    "    Writer = animation.writers['pillow']\n",
    "    writer = Writer(fps=10, metadata=dict(artist='Me'), bitrate=1800)\n",
    "    \n",
    "    fig = plt.figure(figsize=(10,4.5), dpi=200)\n",
    "    ax = fig.gca()\n",
    "    ax.set_facecolor('darkgreen')\n",
    "    ani = animation.FuncAnimation(fig, get_play_by_frame, \n",
    "                             np.arange(1, play['frameId'].sort_values().unique().shape[0]),\n",
    "                             interval=100, repeat=True, fargs=(ax, play, metadata))\n",
    "    plt.show()\n",
    "    ani.save(str(game_id)+'_'+str(play_id)+'.gif', writer=writer)"
   ]
  },
  {
   "cell_type": "code",
   "execution_count": null,
   "metadata": {},
   "outputs": [],
   "source": []
  }
 ],
 "metadata": {
  "kernelspec": {
   "display_name": "Python 3",
   "language": "python",
   "name": "python3"
  },
  "language_info": {
   "codemirror_mode": {
    "name": "ipython",
    "version": 3
   },
   "file_extension": ".py",
   "mimetype": "text/x-python",
   "name": "python",
   "nbconvert_exporter": "python",
   "pygments_lexer": "ipython3",
   "version": "3.7.3"
  }
 },
 "nbformat": 4,
 "nbformat_minor": 2
}
